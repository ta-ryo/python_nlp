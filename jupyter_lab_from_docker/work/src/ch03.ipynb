{
 "cells": [
  {
   "cell_type": "markdown",
   "metadata": {},
   "source": [
    "## 20. JSONデータの読み込みPermalink"
   ]
  },
  {
   "cell_type": "code",
   "execution_count": 60,
   "metadata": {
    "scrolled": true
   },
   "outputs": [],
   "source": [
    "# https://nlp100.github.io/ja/ch03.html にアクセスし、wikipediaの記事データをダウンロード・解凍しておく\n",
    "# Wikipedia記事のJSONファイルを読み込み，「イギリス」に関する記事本文を表示せよ．\n",
    "# 問題21-29では，ここで抽出した記事本文に対して実行せよ．\n",
    "\n",
    "import pandas as pd\n",
    "wiki_df = pd.read_json(\"../data/jawiki-country.json\",lines=True)\n",
    "uk = wiki_df[wiki_df[\"title\"] == \"イギリス\"].text.values"
   ]
  },
  {
   "cell_type": "markdown",
   "metadata": {},
   "source": [
    "## 21. カテゴリ名を含む行を抽出"
   ]
  },
  {
   "cell_type": "code",
   "execution_count": 71,
   "metadata": {},
   "outputs": [
    {
     "name": "stdout",
     "output_type": "stream",
     "text": [
      "{{Sisterlinks|commons=United Kingdom|commonscat=United Kingdom|s=Category:イギリス|n=Category:イギリス|voy=United Kingdom}}\n",
      "[[Category:イギリス|*]]\n",
      "[[Category:イギリス連邦加盟国]]\n",
      "[[Category:英連邦王国|*]]\n",
      "[[Category:G8加盟国]]\n",
      "[[Category:欧州連合加盟国|元]]\n",
      "[[Category:海洋国家]]\n",
      "[[Category:現存する君主国]]\n",
      "[[Category:島国]]\n",
      "[[Category:1801年に成立した国家・領域]]\n"
     ]
    }
   ],
   "source": [
    "# 記事中でカテゴリ名を宣言している行を抽出せよ．\n",
    "\n",
    "import pandas as pd\n",
    "import re\n",
    "pattern = re.compile(\"Category\")\n",
    "wiki_df = pd.read_json(\"../data/jawiki-country.json\",lines=True)\n",
    "uk = wiki_df[wiki_df[\"title\"] == \"イギリス\"].text.values\n",
    "for uk_line in uk[0].split(\"\\n\"):\n",
    "    if re.search(pattern,uk_line):\n",
    "        print(uk_line)"
   ]
  },
  {
   "cell_type": "markdown",
   "metadata": {},
   "source": [
    "## 22. カテゴリ名の抽出"
   ]
  },
  {
   "cell_type": "code",
   "execution_count": 60,
   "metadata": {},
   "outputs": [
    {
     "name": "stdout",
     "output_type": "stream",
     "text": [
      "イギリス\n",
      "イギリス連邦加盟国\n",
      "英連邦王国\n",
      "G8加盟国\n",
      "欧州連合加盟国元\n",
      "海洋国家\n",
      "現存する君主国\n",
      "島国\n",
      "1801年に成立した国家・領域\n"
     ]
    }
   ],
   "source": [
    "# 記事のカテゴリ名を（行単位ではなく名前で）抽出せよ\n",
    "import pandas as pd\n",
    "import re\n",
    "pattern = r'(\\[Category:)(.*)?'\n",
    "pattern2 = r'([\\|\\*\\]]*)'\n",
    "wiki_df = pd.read_json(\"../data/jawiki-country.json\",lines=True)\n",
    "uk = wiki_df[wiki_df[\"title\"] == \"イギリス\"].text.values\n",
    "match = re.findall(pattern,uk[0])\n",
    "for m in match:\n",
    "    print(re.sub(pattern2,\"\",m[1]))"
   ]
  },
  {
   "cell_type": "markdown",
   "metadata": {},
   "source": [
    "## 23. セクション構造Permalink"
   ]
  },
  {
   "cell_type": "code",
   "execution_count": 71,
   "metadata": {},
   "outputs": [],
   "source": [
    "# 記事中に含まれるセクション名とそのレベル（例えば”== セクション名 ==”なら1）を表示せよ．\n",
    "\n",
    "import pandas as pd\n",
    "import re\n",
    "pattern = r'^=+.*=+$'\n",
    "wiki_df = pd.read_json(\"../data/jawiki-country.json\",lines=True)\n",
    "uk = wiki_df[wiki_df[\"title\"] == \"イギリス\"].text.values\n",
    "for uk_line in uk[0].split(\"\\n\"):\n",
    "    if re.search(pattern, uk_line):\n",
    "        level = int(uk_line.count(\"=\")/2 - 1)\n",
    "        #print(uk_line.replace(\"=\",\"\"),level)"
   ]
  },
  {
   "cell_type": "markdown",
   "metadata": {},
   "source": [
    "## 24. ファイル参照の抽出"
   ]
  },
  {
   "cell_type": "code",
   "execution_count": 92,
   "metadata": {},
   "outputs": [],
   "source": [
    "# 記事から参照されているメディアファイルをすべて抜き出せ.\n",
    "\n",
    "import pandas as pd\n",
    "import re\n",
    "pattern = r'ファイル:(.+?)\\|'\n",
    "wiki_df = pd.read_json(\"../data/jawiki-country.json\",lines=True)\n",
    "uk = wiki_df[wiki_df[\"title\"] == \"イギリス\"].text.values[0]\n",
    "# for uk_line in uk.split(\"\\n\"):\n",
    "#     for i in re.findall(pattern,uk_line):\n",
    "#         print(i)"
   ]
  },
  {
   "cell_type": "markdown",
   "metadata": {},
   "source": [
    "## 25. テンプレートの抽出Permalink"
   ]
  },
  {
   "cell_type": "code",
   "execution_count": 19,
   "metadata": {},
   "outputs": [],
   "source": [
    "# 記事中に含まれる「基礎情報」テンプレートのフィールド名と値を抽出し，辞書オブジェクトとして格納せよ．\n",
    "\n",
    "import pandas as pd\n",
    "import re\n",
    "wiki_df = pd.read_json(\"../data/jawiki-country.json\", lines=True)\n",
    "uk = wiki_df[wiki_df[\"title\"] == \"イギリス\"].text.values[0]\n",
    "pattern = r'\\|(.+?)\\s=\\s*(.+)'\n",
    "dic = {}\n",
    "for line in uk.split(\"\\n\"):\n",
    "    tmp = re.search(pattern,line)\n",
    "    if tmp:\n",
    "        dic[tmp[1]] = tmp[2]\n",
    "#print(dic)\n",
    "#uk"
   ]
  },
  {
   "cell_type": "markdown",
   "metadata": {},
   "source": [
    "## 26. 強調マークアップの除去"
   ]
  },
  {
   "cell_type": "code",
   "execution_count": 26,
   "metadata": {},
   "outputs": [],
   "source": [
    "# 25の処理時に，テンプレートの値からMediaWikiの強調マークアップ（弱い強調，強調，強い強調のすべて）を除去してテキストに変換せよ\n",
    "\n",
    "import pandas as pd\n",
    "import re\n",
    "\n",
    "pattern = r'\\|(.+?)\\s=\\s*(.+)'\n",
    "p_emp = r'\\'{2,}(.+?)\\'{2,}'\n",
    "\n",
    "wiki_df = pd.read_json(\"../data/jawiki-country.json\", lines=True)\n",
    "uk = wiki_df[wiki_df[\"title\"] == \"イギリス\"].text.values[0]\n",
    "uk_emp = re.sub(p_emp,' ', uk)\n",
    "\n",
    "dic = {}\n",
    "for line in uk.split(\"\\n\"):\n",
    "    tmp = re.search(pattern,line)\n",
    "    if tmp:\n",
    "        dic[tmp[1]] = tmp[2]\n",
    "#print(dic)"
   ]
  },
  {
   "cell_type": "markdown",
   "metadata": {},
   "source": [
    "## 27. 内部リンクの除去"
   ]
  },
  {
   "cell_type": "code",
   "execution_count": 27,
   "metadata": {},
   "outputs": [],
   "source": [
    "# 26の処理に加えて，テンプレートの値からMediaWikiの内部リンクマークアップを除去し，テキストに変換せよ\n",
    "\n",
    "import pandas as pd\n",
    "import re\n",
    "\n",
    "pattern = r'\\|(.+?)\\s=\\s*(.+)'\n",
    "p_emp = r'\\'{2,}(.+?)\\'{2,}'\n",
    "p_link = r'\\[\\[(.+?)\\]\\]'\n",
    "\n",
    "wiki_df = pd.read_json(\"../data/jawiki-country.json\", lines=True)\n",
    "uk = wiki_df[wiki_df[\"title\"] == \"イギリス\"].text.values[0]\n",
    "uk_emp = re.sub(p_emp,' ', uk)\n",
    "uk_link = re.sub(p_link,' ', uk_emp)\n",
    "\n",
    "dic = {}\n",
    "\n",
    "for line in link_uk.split(\"\\n\"):\n",
    "    tmp = re.search(pattern,line)\n",
    "    if tmp:\n",
    "        dic[tmp[1]] = tmp[2]\n",
    "#print(dic)"
   ]
  },
  {
   "cell_type": "markdown",
   "metadata": {},
   "source": [
    "## 28. MediaWikiマークアップの除去"
   ]
  },
  {
   "cell_type": "code",
   "execution_count": 28,
   "metadata": {},
   "outputs": [],
   "source": [
    "# 27の処理に加えて，テンプレートの値からMediaWikiマークアップを可能な限り除去し，国の基本情報を整形せよ．\n",
    "\n",
    "import pandas as pd\n",
    "import re\n",
    "\n",
    "pattern = r'\\|(.+?)\\s=\\s*(.+)'\n",
    "p_emp = r'\\'{2,}(.+?)\\'{2,}'\n",
    "p_link = r'\\[\\[(.+?)\\]\\]'\n",
    "\n",
    "wiki_df = pd.read_json(\"../data/jawiki-country.json\", lines=True)\n",
    "uk = wiki_df[wiki_df[\"title\"] == \"イギリス\"].text.values[0]\n",
    "uk_emp = re.sub(p_emp,' ', uk)\n",
    "uk_link = re.sub(p_link,' ', uk_emp)\n",
    "\n",
    "dic = {}\n",
    "\n",
    "for line in link_uk.split(\"\\n\"):\n",
    "    tmp = re.search(pattern,line)\n",
    "    if tmp:\n",
    "        dic[tmp[1]] = tmp[2]\n",
    "#print(dic)"
   ]
  },
  {
   "cell_type": "code",
   "execution_count": null,
   "metadata": {},
   "outputs": [],
   "source": []
  }
 ],
 "metadata": {
  "kernelspec": {
   "display_name": "Python 3",
   "language": "python",
   "name": "python3"
  },
  "language_info": {
   "codemirror_mode": {
    "name": "ipython",
    "version": 3
   },
   "file_extension": ".py",
   "mimetype": "text/x-python",
   "name": "python",
   "nbconvert_exporter": "python",
   "pygments_lexer": "ipython3",
   "version": "3.7.6"
  }
 },
 "nbformat": 4,
 "nbformat_minor": 4
}
