{
 "cells": [
  {
   "cell_type": "markdown",
   "metadata": {},
   "source": [
    "## 準備\n",
    "以下のテキストファイルをダウンロードする必要があるため、curlコマンド or wget で取得する。\n",
    "\n",
    "https://nlp100.github.io/data/popular-names.txt\n",
    "\n",
    "`curl -L {url} > {好きなファイル名}`\n",
    "\n",
    "`wget --trust-server-names　{url}`"
   ]
  },
  {
   "cell_type": "markdown",
   "metadata": {},
   "source": [
    "## 10. 行数のカウント"
   ]
  },
  {
   "cell_type": "code",
   "execution_count": 14,
   "metadata": {},
   "outputs": [
    {
     "name": "stdout",
     "output_type": "stream",
     "text": [
      "2780\n"
     ]
    }
   ],
   "source": [
    "# 行数をカウントせよ．確認にはwcコマンドを用いよ．\n",
    "with open(\"../data/popular-names.txt\") as file:\n",
    "    f = file.readlines()\n",
    "    print(len(f))\n",
    "    \n",
    "# wc -l popular-names.txt"
   ]
  },
  {
   "cell_type": "markdown",
   "metadata": {},
   "source": [
    "## 11. タブをスペースに置換"
   ]
  },
  {
   "cell_type": "code",
   "execution_count": 24,
   "metadata": {},
   "outputs": [],
   "source": [
    "# タブ1文字につきスペース1文字に置換せよ．\n",
    "# 確認にはsedコマンド，trコマンド，もしくはexpandコマンドを用いよ．\n",
    "with open(\"../data/popular-names.txt\") as r_file:\n",
    "    with open(\"../data/popular-names-space.txt\", mode='w') as w_file:\n",
    "        f_line = r_file.readlines()\n",
    "        for f in f_line:\n",
    "            w_file.writelines(f.replace(\"\\t\",\" \"))\n",
    "\n",
    "# with open(\"../data/popular-names-space.txt\") as r_file:\n",
    "#     print(r_file.read())\n",
    "    \n",
    "#　tr の場合\n",
    "##　less ../data/popular-names.txt | tr '\\t' ' '\n",
    "\n",
    "# sed の場合\n",
    "## less popular-names.txt | sed s/$'\\t'/' '/g"
   ]
  },
  {
   "cell_type": "markdown",
   "metadata": {},
   "source": [
    "## 12. 1列目をcol1.txtに，2列目をcol2.txtに保存"
   ]
  },
  {
   "cell_type": "code",
   "execution_count": 56,
   "metadata": {},
   "outputs": [],
   "source": [
    "# 各行の1列目だけを抜き出したものをcol1.txtに，2列目だけを抜き出したものをcol2.txtとしてファイルに保存せよ．\n",
    "# 確認にはcutコマンドを用いよ．\n",
    "\n",
    "import pandas as pd\n",
    "df = pd.read_table(\"../data/popular-names.txt\",header=None)\n",
    "df[0].to_csv('../data/col1.txt', header=False, index=False, sep=\"\\t\")\n",
    "df[1].to_csv('../data/col2.txt', header=False, index=False, sep=\"\\t\")\n",
    "\n",
    "# cut -f [何番目か] [file名]\n",
    "# cut -f 1 popular-names.txt\n",
    "# cut -f 2  popular-names.txt"
   ]
  },
  {
   "cell_type": "markdown",
   "metadata": {},
   "source": [
    "## 13. col1.txtとcol2.txtをマージ"
   ]
  },
  {
   "cell_type": "code",
   "execution_count": 68,
   "metadata": {},
   "outputs": [],
   "source": [
    "# 12で作ったcol1.txtとcol2.txtを結合し，元のファイルの1列目と2列目をタブ区切りで並べたテキストファイルを作成せよ．\n",
    "# 確認にはpasteコマンドを用いよ\n",
    "\n",
    "import pandas as pd\n",
    "df_1 = pd.read_table(\"../data/col1.txt\", header=None)\n",
    "df_2 = pd.read_table(\"../data/col2.txt\", header=None)\n",
    "df_concat = pd.concat([df_1,df_2],axis=1)\n",
    "df_concat.to_csv('../data/merge_col.txt', header=False, index=False, sep=\"\\t\")\n",
    "\n",
    "# paste col1.txt col2.txt"
   ]
  },
  {
   "cell_type": "markdown",
   "metadata": {},
   "source": [
    "## 14. 先頭からN行を出力"
   ]
  },
  {
   "cell_type": "code",
   "execution_count": 8,
   "metadata": {},
   "outputs": [
    {
     "name": "stdout",
     "output_type": "stream",
     "text": [
      "自然数を打ち込んでください1\n"
     ]
    }
   ],
   "source": [
    "# 自然数Nをコマンドライン引数などの手段で受け取り，入力のうち先頭のN行だけを表示せよ．\n",
    "# 確認にはheadコマンドを用いよ.\n",
    "\n",
    "num = int(input(\"自然数を打ち込んでください\"))\n",
    "# with open(\"../data/popular-names.txt\") as r_file:\n",
    "#     for line_num, r_line in enumerate(r_file.readlines()):\n",
    "#         if line_num < num:\n",
    "#             print(r_line)\n",
    "#         else:\n",
    "#             break;\n",
    "\n",
    "#  head -n {自然数N} {file名}"
   ]
  },
  {
   "cell_type": "markdown",
   "metadata": {},
   "source": [
    "## 15. 末尾のN行を出力"
   ]
  },
  {
   "cell_type": "code",
   "execution_count": 15,
   "metadata": {},
   "outputs": [
    {
     "name": "stdout",
     "output_type": "stream",
     "text": [
      "自然数を打ち込んでください1\n",
      "Logan\tM\t12352\t2018\n",
      "\n"
     ]
    }
   ],
   "source": [
    "# 自然数Nをコマンドライン引数などの手段で受け取り，入力のうち末尾のN行だけを表示せよ．\n",
    "# 確認にはtailコマンドを用いよ.\n",
    "\n",
    "num = int(input(\"自然数を打ち込んでください\"))\n",
    "with open(\"../data/popular-names.txt\") as r_file:\n",
    "    # readlines()がListでファイルの行単位で値を返すのでスライスが使える\n",
    "    r_line = r_file.readlines()\n",
    "    for line in r_line[-num:]:\n",
    "        print(line)\n",
    "        \n",
    "# tail -n {自然数N} {file名}"
   ]
  },
  {
   "cell_type": "markdown",
   "metadata": {},
   "source": [
    "## 16. ファイルをN分割する"
   ]
  },
  {
   "cell_type": "code",
   "execution_count": 22,
   "metadata": {},
   "outputs": [
    {
     "name": "stdout",
     "output_type": "stream",
     "text": [
      "自然数を打ち込んでください2\n"
     ]
    }
   ],
   "source": [
    "# 自然数Nをコマンドライン引数などの手段で受け取り，入力のファイルを行単位でN分割せよ．\n",
    "# 同様の処理をsplitコマンドで実現せよ．\n",
    "\n",
    "import pandas as pd\n",
    "import numpy as np\n",
    "num = int(input(\"自然数を打ち込んでください\"))\n",
    "r_df = pd.read_table(\"../data/popular-names.txt\",header=None)\n",
    "slice_df = np.array_split(r_df,num)\n",
    "for df_num, df in enumerate(slice_df):\n",
    "    df.to_csv('../data/popular-names{0}.txt'.format(df_num), header=False, index=False, sep=\"\\t\")\n",
    "    \n",
    "# split popular-names.txt popular-namses-"
   ]
  },
  {
   "cell_type": "markdown",
   "metadata": {},
   "source": [
    "## 17. １列目の文字列の異なり"
   ]
  },
  {
   "cell_type": "code",
   "execution_count": 30,
   "metadata": {},
   "outputs": [
    {
     "data": {
      "text/plain": [
       "136"
      ]
     },
     "execution_count": 30,
     "metadata": {},
     "output_type": "execute_result"
    }
   ],
   "source": [
    "import pandas as pd\n",
    "r_df = pd.read_table(\"../data/popular-names.txt\",header=None)\n",
    "len(set(r_df[0].to_list()))\n",
    "\n",
    "# cut -f 1 popular-names.txt | sort | uniq | wc -l"
   ]
  },
  {
   "cell_type": "markdown",
   "metadata": {},
   "source": [
    "## 18. 各行を3コラム目の数値の降順にソートPermalink"
   ]
  },
  {
   "cell_type": "code",
   "execution_count": 39,
   "metadata": {},
   "outputs": [],
   "source": [
    "# 各行を3コラム目の数値の逆順で整列せよ（注意: 各行の内容は変更せずに並び替えよ）．\n",
    "# 確認にはsortコマンドを用いよ（この問題はコマンドで実行した時の結果と合わなくてもよい）．\n",
    "\n",
    "import pandas as pd\n",
    "r_df = pd.read_table(\"../data/popular-names.txt\",header=None)\n",
    "r_df.sort_values(2,ascending=False)\n",
    "\n",
    "# cat ./popular-names.txt | sort -rnk 3"
   ]
  },
  {
   "cell_type": "markdown",
   "metadata": {},
   "source": [
    "## 19. 各行の1コラム目の文字列の出現頻度を求め，出現頻度の高い順に並べる"
   ]
  },
  {
   "cell_type": "code",
   "execution_count": 5,
   "metadata": {},
   "outputs": [
    {
     "data": {
      "text/plain": [
       "James      118\n",
       "William    111\n",
       "Robert     108\n",
       "John       108\n",
       "Mary        92\n",
       "          ... \n",
       "Lucas        1\n",
       "Pamela       1\n",
       "Crystal      1\n",
       "Walter       1\n",
       "Julie        1\n",
       "Name: 0, Length: 136, dtype: int64"
      ]
     },
     "execution_count": 5,
     "metadata": {},
     "output_type": "execute_result"
    }
   ],
   "source": [
    "# 各行の1列目の文字列の出現頻度を求め，その高い順に並べて表示せよ．\n",
    "# 確認にはcut, uniq, sortコマンドを用いよ．\n",
    "\n",
    "import pandas as pd\n",
    "r_df = pd.read_table(\"../data/popular-names.txt\",header=None)\n",
    "r_df[0].value_counts()\n",
    "\n",
    "# cut -f 1  popular-names.txt | sort | uniq -c | sort"
   ]
  }
 ],
 "metadata": {
  "kernelspec": {
   "display_name": "Python 3",
   "language": "python",
   "name": "python3"
  },
  "language_info": {
   "codemirror_mode": {
    "name": "ipython",
    "version": 3
   },
   "file_extension": ".py",
   "mimetype": "text/x-python",
   "name": "python",
   "nbconvert_exporter": "python",
   "pygments_lexer": "ipython3",
   "version": "3.7.6"
  }
 },
 "nbformat": 4,
 "nbformat_minor": 4
}
