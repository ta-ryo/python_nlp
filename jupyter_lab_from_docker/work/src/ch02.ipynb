{
 "cells": [
  {
   "cell_type": "markdown",
   "metadata": {},
   "source": [
    "## 準備\n",
    "以下のテキストファイルをダウンロードする必要があるため、curlコマンド or wget で取得する。\n",
    "\n",
    "https://nlp100.github.io/data/popular-names.txt\n",
    "\n",
    "`curl -L {url} > {好きなファイル名}`\n",
    "\n",
    "`wget --trust-server-names　{url}`"
   ]
  },
  {
   "cell_type": "markdown",
   "metadata": {},
   "source": [
    "## 10. 行数のカウント"
   ]
  },
  {
   "cell_type": "code",
   "execution_count": 14,
   "metadata": {},
   "outputs": [
    {
     "name": "stdout",
     "output_type": "stream",
     "text": [
      "2780\n"
     ]
    }
   ],
   "source": [
    "# 行数をカウントせよ．確認にはwcコマンドを用いよ．\n",
    "with open(\"../data/popular-names.txt\") as file:\n",
    "    f = file.readlines()\n",
    "    print(len(f))\n",
    "    \n",
    "# wc -l popular-names.txt"
   ]
  },
  {
   "cell_type": "markdown",
   "metadata": {},
   "source": [
    "## 11. タブをスペースに置換"
   ]
  },
  {
   "cell_type": "code",
   "execution_count": 24,
   "metadata": {},
   "outputs": [],
   "source": [
    "# タブ1文字につきスペース1文字に置換せよ．\n",
    "# 確認にはsedコマンド，trコマンド，もしくはexpandコマンドを用いよ．\n",
    "with open(\"../data/popular-names.txt\") as r_file:\n",
    "    with open(\"../data/popular-names-space.txt\", mode='w') as w_file:\n",
    "        f_line = r_file.readlines()\n",
    "        for f in f_line:\n",
    "            w_file.writelines(f.replace(\"\\t\",\" \"))\n",
    "\n",
    "# with open(\"../data/popular-names-space.txt\") as r_file:\n",
    "#     print(r_file.read())\n",
    "    \n",
    "#　tr の場合\n",
    "##　less ../data/popular-names.txt | tr '\\t' ' '\n",
    "\n",
    "# sed の場合\n",
    "## less popular-names.txt | sed s/$'\\t'/' '/g"
   ]
  },
  {
   "cell_type": "markdown",
   "metadata": {},
   "source": [
    "## 12. 1列目をcol1.txtに，2列目をcol2.txtに保存"
   ]
  },
  {
   "cell_type": "code",
   "execution_count": 56,
   "metadata": {},
   "outputs": [],
   "source": [
    "# 各行の1列目だけを抜き出したものをcol1.txtに，2列目だけを抜き出したものをcol2.txtとしてファイルに保存せよ．\n",
    "# 確認にはcutコマンドを用いよ．\n",
    "\n",
    "import pandas as pd\n",
    "df = pd.read_table(\"../data/popular-names.txt\",header=None)\n",
    "df[0].to_csv('../data/col1.txt', header=False, index=False, sep=\"\\t\")\n",
    "df[1].to_csv('../data/col2.txt', header=False, index=False, sep=\"\\t\")\n",
    "\n",
    "# cut -f [何番目か] [何区切りか] [file名]\n",
    "# cut -f 1 \"\\t\" popular-names.txt\n",
    "# cut -f 2 \"\\t\" popular-names.txt"
   ]
  },
  {
   "cell_type": "markdown",
   "metadata": {},
   "source": [
    "## 13. col1.txtとcol2.txtをマージ"
   ]
  },
  {
   "cell_type": "code",
   "execution_count": 68,
   "metadata": {},
   "outputs": [],
   "source": [
    "# 12で作ったcol1.txtとcol2.txtを結合し，元のファイルの1列目と2列目をタブ区切りで並べたテキストファイルを作成せよ．\n",
    "# 確認にはpasteコマンドを用いよ\n",
    "\n",
    "import pandas as pd\n",
    "df_1 = pd.read_table(\"../data/col1.txt\", header=None)\n",
    "df_2 = pd.read_table(\"../data/col2.txt\", header=None)\n",
    "df_concat = pd.concat([df_1,df_2],axis=1)\n",
    "df_concat.to_csv('../data/merge_col.txt', header=False, index=False, sep=\"\\t\")\n",
    "\n",
    "# paste col1.txt col2.txt"
   ]
  },
  {
   "cell_type": "markdown",
   "metadata": {},
   "source": [
    "## 14. 先頭からN行を出力"
   ]
  },
  {
   "cell_type": "code",
   "execution_count": 71,
   "metadata": {},
   "outputs": [
    {
     "name": "stdout",
     "output_type": "stream",
     "text": [
      "自然数を打ち込んでください123\n",
      "123\n"
     ]
    }
   ],
   "source": [
    "# 自然数Nをコマンドライン引数などの手段で受け取り，入力のうち先頭のN行だけを表示せよ．\n",
    "# 確認にはheadコマンドを用いよ.\n",
    "\n",
    "num = input(\"自然数を打ち込んでください\")\n",
    "print(num)"
   ]
  },
  {
   "cell_type": "code",
   "execution_count": null,
   "metadata": {},
   "outputs": [],
   "source": []
  }
 ],
 "metadata": {
  "kernelspec": {
   "display_name": "Python 3",
   "language": "python",
   "name": "python3"
  },
  "language_info": {
   "codemirror_mode": {
    "name": "ipython",
    "version": 3
   },
   "file_extension": ".py",
   "mimetype": "text/x-python",
   "name": "python",
   "nbconvert_exporter": "python",
   "pygments_lexer": "ipython3",
   "version": "3.7.6"
  }
 },
 "nbformat": 4,
 "nbformat_minor": 4
}
