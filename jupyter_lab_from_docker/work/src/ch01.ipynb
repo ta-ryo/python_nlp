{
 "cells": [
  {
   "cell_type": "markdown",
   "metadata": {},
   "source": [
    "## 00. 文字列の逆順\n"
   ]
  },
  {
   "cell_type": "code",
   "execution_count": 1,
   "metadata": {},
   "outputs": [
    {
     "name": "stdout",
     "output_type": "stream",
     "text": [
      "desserts\n",
      "desserts\n"
     ]
    }
   ],
   "source": [
    "# 文字列”stressed”の文字を逆に（末尾から先頭に向かって）並べた文字列を得よ\n",
    "## めちゃくちゃ reverse()使う気満々で考えたけど、よくよく考えたらスライスでいけるな\n",
    "s = \"stressed\"\n",
    "print(s[-1::-1])\n",
    "\n",
    "s_list = []\n",
    "for i in s:\n",
    "    s_list.append(i)\n",
    "s_list.reverse()\n",
    "print(\"\".join(s_list))"
   ]
  },
  {
   "cell_type": "markdown",
   "metadata": {},
   "source": [
    "## 01. 「パタトカクシーー」"
   ]
  },
  {
   "cell_type": "code",
   "execution_count": 2,
   "metadata": {},
   "outputs": [
    {
     "data": {
      "text/plain": [
       "'タカシー'"
      ]
     },
     "execution_count": 2,
     "metadata": {},
     "output_type": "execute_result"
    }
   ],
   "source": [
    "# 「パタトクカシーー」という文字列の1,3,5,7文字目を取り出して連結した文字列を得よ．\n",
    "## これも00のスライスで 2個ずつずらすといけるよね\n",
    "s = \"パタトカクシーー\"\n",
    "s[1::2]"
   ]
  },
  {
   "cell_type": "markdown",
   "metadata": {},
   "source": [
    "## 02. 「パトカー」＋「タクシー」＝「パタトクカシーー」"
   ]
  },
  {
   "cell_type": "code",
   "execution_count": 3,
   "metadata": {},
   "outputs": [
    {
     "data": {
      "text/plain": [
       "'パタトクカシーー'"
      ]
     },
     "execution_count": 3,
     "metadata": {},
     "output_type": "execute_result"
    }
   ],
   "source": [
    "# 「パトカー」＋「タクシー」の文字を先頭から交互に連結して文字列「パタトクカシーー」を得よ．\n",
    "## 一応 str だから + で連結できるのよね\n",
    "p = \"パトカー\"\n",
    "t = \"タクシー\"\n",
    "ans = p[0] + t[0] + p[1] + t[1] + p[2] + t[2] + p[3] + t[3]\n",
    "ans\n",
    "\n",
    "# 後置 for と まとめる系関数のzip氏を用いての黒魔術\n",
    "\"\".join(i[0] + i[1] for i in zip(p,t))"
   ]
  },
  {
   "cell_type": "markdown",
   "metadata": {},
   "source": [
    "## 03. 円周率Permalink"
   ]
  },
  {
   "cell_type": "code",
   "execution_count": 4,
   "metadata": {},
   "outputs": [
    {
     "name": "stdout",
     "output_type": "stream",
     "text": [
      "[3, 1, 4, 1, 5, 9, 2, 6, 5, 3, 5, 8, 9, 7, 9]\n"
     ]
    },
    {
     "data": {
      "text/plain": [
       "[3, 1, 4, 1, 5, 9, 2, 6, 5, 3, 5, 8, 9, 7, 9]"
      ]
     },
     "execution_count": 4,
     "metadata": {},
     "output_type": "execute_result"
    }
   ],
   "source": [
    "# “Now I need a drink, alcoholic of course, after the heavy lectures involving quantum mechanics.”\n",
    "# という文を単語に分解し，各単語の（アルファベットの）文字数を先頭から出現順に並べたリストを作成せよ．\n",
    "## replace と splitを利用\n",
    "s = \"Now I need a drink, alcoholic of course, after the heavy lectures involving quantum mechanics.\"\n",
    "s = s.replace(\",\",\"\")\n",
    "s = s.replace(\".\",\"\")\n",
    "s_split = s.split(\" \")\n",
    "s_num = []\n",
    "s_list = [len(s) for s in s_split]\n",
    "print(s_list)\n",
    "\n",
    "## replaceを正規表現モジュールのreを用いて代替\n",
    "import re\n",
    "s = \"Now I need a drink, alcoholic of course, after the heavy lectures involving quantum mechanics.\"\n",
    "s = re.sub(r\"[,.]\",\"\",s)\n",
    "s_split = s.split(\" \")\n",
    "s_num = []\n",
    "[len(s) for s in s_split]"
   ]
  },
  {
   "cell_type": "markdown",
   "metadata": {},
   "source": [
    "## 04. 元素記号"
   ]
  },
  {
   "cell_type": "code",
   "execution_count": 5,
   "metadata": {},
   "outputs": [
    {
     "name": "stdout",
     "output_type": "stream",
     "text": [
      "{0: 'Hi', 1: 'H', 2: 'Li', 3: 'Be', 4: 'Bo', 5: 'C', 6: 'N', 7: 'O', 8: 'F', 9: 'N', 10: 'Na', 11: 'Mi', 12: 'Al', 13: 'Si', 14: 'Pe', 15: 'S', 16: 'C', 17: 'Ar', 18: 'Ki', 19: 'C'}\n"
     ]
    }
   ],
   "source": [
    "# “Hi He Lied Because Boron Could Not Oxidize Fluorine. New Nations Might Also Sign Peace Security Clause. Arthur King Can.”\n",
    "# という文を単語に分解し，1, 5, 6, 7, 8, 9, 15, 16, 19番目の単語は先頭の1文字，それ以外の単語は先頭の2文字を取り出し，\n",
    "# 取り出した文字列から単語の位置（先頭から何番目の単語か）への連想配列（辞書型もしくはマップ型）を作成せよ．\n",
    "\n",
    "s = \"Hi He Lied Because Boron Could Not Oxidize Fluorine. New Nations Might Also Sign Peace Security Clause. Arthur King Can.\"\n",
    "s = s.replace(\".\",\"\")\n",
    "s_list = s.split(\" \")\n",
    "ans = {}\n",
    "list_num = [1,5,6,7,8,9,15,16,19]\n",
    "for index, s in enumerate(s_list):\n",
    "    if index in list_num:\n",
    "        ans[index] = s[0]\n",
    "    else:\n",
    "        ans[index] = s[:2]\n",
    "print(ans)"
   ]
  },
  {
   "cell_type": "markdown",
   "metadata": {},
   "source": [
    "## 05. n-gram"
   ]
  },
  {
   "cell_type": "code",
   "execution_count": 54,
   "metadata": {},
   "outputs": [
    {
     "data": {
      "text/plain": [
       "['Iam', 'aman', 'anNLPer']"
      ]
     },
     "execution_count": 54,
     "metadata": {},
     "output_type": "execute_result"
    }
   ],
   "source": [
    "# 与えられたシーケンス（文字列やリストなど）からn-gramを作る関数を作成せよ．\n",
    "# この関数を用い，”I am an NLPer”という文から単語bi-gram，文字bi-gramを得よ．\n",
    "def bi_gram(seq):\n",
    "    ans = []\n",
    "    for i in range(len(seq)):\n",
    "        if i+1 < len(seq):\n",
    "            pair = seq[i]+seq[i+1]\n",
    "            ans.append(pair)\n",
    "    return ans\n",
    "\n",
    "seq = \"I am an NLPer\"\n",
    "seq_w = seq.split(\" \")\n",
    "seq = seq.replace(\" \",\"\")\n",
    "bi_gram(seq_w)\n",
    "#bi_gram(seq)"
   ]
  },
  {
   "cell_type": "markdown",
   "metadata": {},
   "source": [
    "## 06. 集合"
   ]
  },
  {
   "cell_type": "code",
   "execution_count": 55,
   "metadata": {},
   "outputs": [
    {
     "name": "stdout",
     "output_type": "stream",
     "text": [
      "和集合:  {'pa', 'ra', 'gr', 'ag', 'ph', 'ar', 'ap', 'is', 'se', 'ad', 'di'}\n",
      "積集合:  {'pa', 'ap', 'ra', 'ar'}\n",
      "差集合:  {'ad', 'se', 'di', 'is'}\n",
      "True\n",
      "False\n"
     ]
    }
   ],
   "source": [
    "# “paraparaparadise”と”paragraph”に含まれる文字bi-gramの集合を，\n",
    "# それぞれ, XとYとして求め，XとYの和集合，積集合，差集合を求めよ．\n",
    "# さらに，’se’というbi-gramがXおよびYに含まれるかどうかを調べよ．\n",
    "\n",
    "q1 = \"paraparaparadise\"\n",
    "q2 = \"paragraph\"\n",
    "\n",
    "X = set(bi_gram(q1))\n",
    "Y = set(bi_gram(q2))\n",
    "\n",
    "print(\"和集合: \", X | Y) \n",
    "print(\"積集合: \", X & Y) \n",
    "print(\"差集合: \",  X - Y)\n",
    "print('se' in X)\n",
    "print('se' in Y)"
   ]
  },
  {
   "cell_type": "markdown",
   "metadata": {},
   "source": [
    "## 07. テンプレートによる文生成Permalink"
   ]
  },
  {
   "cell_type": "code",
   "execution_count": 60,
   "metadata": {},
   "outputs": [
    {
     "data": {
      "text/plain": [
       "'12時の気温は22.4'"
      ]
     },
     "execution_count": 60,
     "metadata": {},
     "output_type": "execute_result"
    }
   ],
   "source": [
    "# 引数x, y, zを受け取り「x時のyはz」という文字列を返す関数を実装せよ．\n",
    "# さらに，x=12, y=”気温”, z=22.4として，実行結果を確認せよ．\n",
    "\n",
    "def permalink(x,y,z):\n",
    "    ans = \"{0}時の{1}は{2}\".format(x,y,z)\n",
    "    return ans\n",
    "\n",
    "permalink(12,\"気温\",22.4)"
   ]
  },
  {
   "cell_type": "markdown",
   "metadata": {},
   "source": [
    "## 08. 暗号文"
   ]
  },
  {
   "cell_type": "code",
   "execution_count": 79,
   "metadata": {},
   "outputs": [
    {
     "data": {
      "text/plain": [
       "'zrfvl'"
      ]
     },
     "execution_count": 79,
     "metadata": {},
     "output_type": "execute_result"
    }
   ],
   "source": [
    "# 与えられた文字列の各文字を，以下の仕様で変換する関数cipherを実装せよ．\n",
    "# 英小文字ならば(219 - 文字コード)の文字に置換\n",
    "# その他の文字はそのまま出力\n",
    "# この関数を用い，英語のメッセージを暗号化・復号化せよ．\n",
    "\n",
    "# def cipher(str_1):\n",
    "\n",
    "str_1 = \"aiueo\"\n",
    "def cipher(str_1):\n",
    "    ans = \"\"\n",
    "    for char in str_1:\n",
    "        if char.isalpha() & char.islower():\n",
    "            ans += chr(219 - ord(char))\n",
    "        else:\n",
    "            ans += char\n",
    "    return ans\n",
    "\n",
    "cipher(str_1)"
   ]
  },
  {
   "cell_type": "markdown",
   "metadata": {},
   "source": [
    "## 09. TypoglycemiaPermalink"
   ]
  },
  {
   "cell_type": "code",
   "execution_count": 100,
   "metadata": {},
   "outputs": [
    {
     "data": {
      "text/plain": [
       "'I cnlo’udt bleviee that I could aulaltcy uratednsnd what I was riaendg : the panheoneml peowr of the hamun mind .'"
      ]
     },
     "execution_count": 100,
     "metadata": {},
     "output_type": "execute_result"
    }
   ],
   "source": [
    "# スペースで区切られた単語列に対して，各単語の先頭と末尾の文字は残し，\n",
    "# それ以外の文字の順序をランダムに並び替えるプログラムを作成せよ．\n",
    "# ただし，長さが４以下の単語は並び替えないこととする．\n",
    "# 適当な英語の文（例えば”I couldn’t believe that I could actually understand what I was reading : the phenomenal power of the human mind .”）\n",
    "# を与え，その実行結果を確認せよ．\n",
    "import random\n",
    "str_1 = \"I couldn’t believe that I could actually understand what I was reading : the phenomenal power of the human mind .\"\n",
    "\n",
    "def typoglycemia_permalink(str_1):\n",
    "    str_w = str_1.split(\" \")\n",
    "    ans = []\n",
    "    for word in str_w:\n",
    "        if len(word) <= 4:\n",
    "            ans.append(word)\n",
    "        else:\n",
    "            shuf_word = word[1:len(word)-1]\n",
    "            shuf_word = \"\".join(random.sample(shuf_word,len(shuf_word)))\n",
    "            word = word[0] + shuf_word + word[-1]\n",
    "            ans.append(word)\n",
    "    return \" \".join(ans)\n",
    "\n",
    "typoglycemia_permalink(str_1)"
   ]
  },
  {
   "cell_type": "code",
   "execution_count": null,
   "metadata": {},
   "outputs": [],
   "source": []
  }
 ],
 "metadata": {
  "kernelspec": {
   "display_name": "Python 3",
   "language": "python",
   "name": "python3"
  },
  "language_info": {
   "codemirror_mode": {
    "name": "ipython",
    "version": 3
   },
   "file_extension": ".py",
   "mimetype": "text/x-python",
   "name": "python",
   "nbconvert_exporter": "python",
   "pygments_lexer": "ipython3",
   "version": "3.7.6"
  }
 },
 "nbformat": 4,
 "nbformat_minor": 4
}
