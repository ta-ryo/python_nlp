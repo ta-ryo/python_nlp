{
 "cells": [
  {
   "cell_type": "markdown",
   "id": "vanilla-contribution",
   "metadata": {},
   "source": [
    "# 第5章: 係り受け解析"
   ]
  },
  {
   "cell_type": "code",
   "execution_count": 3,
   "id": "silent-pattern",
   "metadata": {},
   "outputs": [],
   "source": [
    "#!pip install spacy\n",
    "#!pip install ginza"
   ]
  },
  {
   "cell_type": "markdown",
   "id": "english-cement",
   "metadata": {},
   "source": [
    "## 40. 係り受け解析結果の読み込み（形態素）"
   ]
  },
  {
   "cell_type": "code",
   "execution_count": 94,
   "id": "burning-silicon",
   "metadata": {},
   "outputs": [],
   "source": [
    "def read_file_to_list():\n",
    "    file_data = []\n",
    "    with open(\"../data/ai.ja.txt\", \"r\") as file:\n",
    "        for line in file:\n",
    "            if line != '\\n':\n",
    "                file_data.append(line.rstrip())\n",
    "    return file_data\n",
    "\n",
    "d_file = read_file_to_list()"
   ]
  },
  {
   "cell_type": "code",
   "execution_count": 96,
   "id": "geographic-investor",
   "metadata": {},
   "outputs": [],
   "source": [
    "import spacy\n",
    "import ginza\n",
    "\n",
    "class Morph:\n",
    "    def __init__(self,token):\n",
    "        self.surface = token.orth_\n",
    "        self.base = token.lemma_\n",
    "        self.pos, self.po1 = self.check(token)\n",
    "        \n",
    "\n",
    "    def check(self,token):\n",
    "        try:\n",
    "            pos = token.tag_.split(\"-\")[0]\n",
    "            pos1 = token.tag_.split(\"-\")[1]\n",
    "        except:\n",
    "            pos = token.tag_\n",
    "            pos1 = '*'\n",
    "        finally:\n",
    "            return pos, pos1\n",
    "        \n",
    "nlp = spacy.load('ja_ginza')"
   ]
  },
  {
   "cell_type": "code",
   "execution_count": 97,
   "id": "stainless-quality",
   "metadata": {},
   "outputs": [],
   "source": [
    "sentences = []\n",
    "for d_line in d_file:\n",
    "    doc = nlp(d_line)\n",
    "    morphs = []\n",
    "    for sent in doc.sents:\n",
    "        for token in sent:\n",
    "            morphs.append(Morph(token))\n",
    "    sentences.append(morphs)"
   ]
  },
  {
   "cell_type": "code",
   "execution_count": 99,
   "id": "awful-present",
   "metadata": {},
   "outputs": [],
   "source": [
    "#for sentence in sentences[1]:\n",
    "    #print(vars(sentence))"
   ]
  },
  {
   "cell_type": "markdown",
   "id": "young-better",
   "metadata": {},
   "source": [
    "## 41. 係り受け解析結果の読み込み（文節・係り受け）"
   ]
  }
 ],
 "metadata": {
  "kernelspec": {
   "display_name": "Python 3",
   "language": "python",
   "name": "python3"
  },
  "language_info": {
   "codemirror_mode": {
    "name": "ipython",
    "version": 3
   },
   "file_extension": ".py",
   "mimetype": "text/x-python",
   "name": "python",
   "nbconvert_exporter": "python",
   "pygments_lexer": "ipython3",
   "version": "3.8.6"
  }
 },
 "nbformat": 4,
 "nbformat_minor": 5
}
