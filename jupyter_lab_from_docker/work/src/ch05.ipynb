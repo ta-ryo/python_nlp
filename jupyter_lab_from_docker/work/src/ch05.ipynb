{
 "cells": [
  {
   "cell_type": "markdown",
   "id": "varied-watch",
   "metadata": {},
   "source": [
    "# 第5章: 係り受け解析"
   ]
  },
  {
   "cell_type": "code",
   "execution_count": 3,
   "id": "modern-authority",
   "metadata": {},
   "outputs": [],
   "source": [
    "#!pip install spacy\n",
    "#!pip install ginza"
   ]
  },
  {
   "cell_type": "markdown",
   "id": "defined-cleanup",
   "metadata": {},
   "source": [
    "## 40. 係り受け解析結果の読み込み（形態素）"
   ]
  },
  {
   "cell_type": "code",
   "execution_count": 5,
   "id": "protecting-paraguay",
   "metadata": {},
   "outputs": [],
   "source": [
    "import spacy\n",
    "import ginza\n",
    "\n",
    "class Morph:\n",
    "    def __init__(self):\n",
    "        self.nlp = spacy.load('ja_ginza')\n",
    "\n",
    "    def run(self,text_line):\n",
    "        doc = self.nlp(text_line)\n",
    "\n",
    "        token_head_list = []\n",
    "\n",
    "        for sent in doc.sents:\n",
    "            for token in sent:\n",
    "                try:\n",
    "                    pos = token.tag_.split(\"-\")[0]\n",
    "                    pos1 = token.tag_.split(\"-\")[1]\n",
    "                except:\n",
    "                    pos = token.tag_\n",
    "                    pos1 = '*'\n",
    "                finally:\n",
    "                    token_head_list.append({\"surface\":token.orth_, \"base\":token.lemma_, \n",
    "                    \"pos\":pos, \"pos1\":pos1})\n",
    "        return token_head_list\n",
    "\n",
    "morph_parser = Morph()\n",
    "result = []\n",
    "with open(\"../data/ai.ja.txt\", \"r\") as file:\n",
    "    for line in file:\n",
    "        try:\n",
    "            result.append(morph_parser.run(line.rstrip()))\n",
    "        except:\n",
    "            continue\n",
    "\n",
    "#for ans in result[1]:\n",
    "    #print(ans)"
   ]
  },
  {
   "cell_type": "markdown",
   "id": "wireless-radical",
   "metadata": {},
   "source": [
    "## 41. 係り受け解析結果の読み込み（文節・係り受け）"
   ]
  },
  {
   "cell_type": "code",
   "execution_count": null,
   "id": "surprised-wells",
   "metadata": {},
   "outputs": [],
   "source": []
  }
 ],
 "metadata": {
  "kernelspec": {
   "display_name": "Python 3",
   "language": "python",
   "name": "python3"
  },
  "language_info": {
   "codemirror_mode": {
    "name": "ipython",
    "version": 3
   },
   "file_extension": ".py",
   "mimetype": "text/x-python",
   "name": "python",
   "nbconvert_exporter": "python",
   "pygments_lexer": "ipython3",
   "version": "3.8.6"
  }
 },
 "nbformat": 4,
 "nbformat_minor": 5
}
