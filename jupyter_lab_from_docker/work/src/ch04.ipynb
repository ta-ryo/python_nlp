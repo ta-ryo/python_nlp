{
 "cells": [
  {
   "cell_type": "code",
   "execution_count": 18,
   "metadata": {},
   "outputs": [],
   "source": [
    "# 夏目漱石の小説『吾輩は猫である』の文章（neko.txt）をMeCabを使って形態素解析し，\n",
    "# その結果をneko.txt.mecabというファイルに保存せよ．\n",
    "# このファイルを用いて，以下の問に対応するプログラムを実装せよ．\n",
    "\n",
    "import requests\n",
    "\n",
    "r = requests.get(\"https://nlp100.github.io/data/neko.txt\", auth=('user','pass'))\n",
    "r.status_code\n",
    "r.headers['content-type']\n",
    "r.encoding\n",
    "with open(\"../data/neko.txt\",mode='w') as f:\n",
    "    f.write(r.text)"
   ]
  },
  {
   "cell_type": "code",
   "execution_count": 1,
   "metadata": {},
   "outputs": [],
   "source": [
    "#import MeCab\n",
    "#chasen = MeCab.Tagger(\"\")\n",
    "#chasen.parse(\"\")\n",
    "#with open(\"../data/neko.txt\") as f:\n",
    "#    with open(\"../data/neko.txt.mecab\",mode='w') as w_f:\n",
    "#        read_f = f.read()\n",
    "#        w_f.write(chasen.parse(read_f))"
   ]
  },
  {
   "cell_type": "markdown",
   "metadata": {},
   "source": [
    "## 30. 形態素解析結果の読み込み"
   ]
  },
  {
   "cell_type": "code",
   "execution_count": 1,
   "metadata": {},
   "outputs": [],
   "source": [
    "# 形態素解析結果（neko.txt.mecab）を読み込むプログラムを実装せよ．\n",
    "# ただし，各形態素は表層形（surface），基本形（base），品詞（pos），品詞細分類1（pos1）をキーとするマッピング型に格納し，\n",
    "# 1文を形態素（マッピング型）のリストとして表現せよ．第4章の残りの問題では，ここで作ったプログラムを活用せよ．\n",
    "\n",
    "## 新しい   形容詞,自立,*,*,形容詞・イ段,基本形,新しい,アタラシイ,アタラシイ\n",
    "## surface:新しい   pos:形容詞   pos1:自立 pos2:   pos3:   cform:形容詞・イ段    ctype:基本形 base:新しい  read:アタラシイ    pron:アタラシイ\n",
    "\n",
    "with open(\"../data/neko.txt.mecab\",mode='r') as r_f:\n",
    "    text = r_f.read().split(\"\\n\")\n",
    "    \n",
    "result = []\n",
    "for t_line in text:\n",
    "    if t_line == 'EOS':\n",
    "        continue\n",
    "    t_array = t_line.split('\\t')\n",
    "    surface = t_array[0]\n",
    "    key = t_array[1].split(\",\")\n",
    "    dic = {'surface':surface, 'base':key[6], 'pos':key[0], 'pos1':key[1]}\n",
    "    result.append(dic)\n",
    "#result"
   ]
  },
  {
   "cell_type": "markdown",
   "metadata": {},
   "source": [
    "## 31. 動詞"
   ]
  },
  {
   "cell_type": "code",
   "execution_count": 9,
   "metadata": {},
   "outputs": [
    {
     "name": "stdout",
     "output_type": "stream",
     "text": [
      "3892\n"
     ]
    }
   ],
   "source": [
    "# 動詞の表層形をすべて抽出せよ．\n",
    "ans = []\n",
    "for text_dic in result:\n",
    "    if text_dic['pos'] == \"動詞\":\n",
    "        ans.append(text_dic['surface'])\n",
    "        \n",
    "print(len(set(ans)))"
   ]
  },
  {
   "cell_type": "markdown",
   "metadata": {},
   "source": [
    "## 32. 動詞の基本形"
   ]
  },
  {
   "cell_type": "code",
   "execution_count": 10,
   "metadata": {},
   "outputs": [
    {
     "data": {
      "text/plain": [
       "2298"
      ]
     },
     "execution_count": 10,
     "metadata": {},
     "output_type": "execute_result"
    }
   ],
   "source": [
    "# 動詞の基本形をすべて抽出せよ．\n",
    "ans = []\n",
    "for text_dic in result:\n",
    "    if text_dic['pos'] == \"動詞\":\n",
    "        ans.append(text_dic['base'])\n",
    "len(set(ans))"
   ]
  },
  {
   "cell_type": "markdown",
   "metadata": {},
   "source": [
    "## 33. 「AのB」"
   ]
  },
  {
   "cell_type": "code",
   "execution_count": 13,
   "metadata": {},
   "outputs": [
    {
     "data": {
      "text/plain": [
       "4927"
      ]
     },
     "execution_count": 13,
     "metadata": {},
     "output_type": "execute_result"
    }
   ],
   "source": [
    "ans = []\n",
    "for index in range(len(result)):\n",
    "    if (result[index]['pos1'] == \"連体化\") and (result[index]['surface'] == \"の\"):\n",
    "        if (result[index-1]['pos'] == \"名詞\") and (result[index+1]['pos'] == \"名詞\"):\n",
    "            ans.append(result[index-1][\"surface\"]+result[index][\"surface\"]+result[index+1][\"surface\"])\n",
    "\n",
    "len(set(ans))"
   ]
  },
  {
   "cell_type": "markdown",
   "metadata": {},
   "source": [
    "## 34. 名詞の連接"
   ]
  },
  {
   "cell_type": "code",
   "execution_count": 9,
   "metadata": {},
   "outputs": [],
   "source": [
    "ans_1 = []\n",
    "ans = []\n",
    "for d in result:\n",
    "    if d['pos'] == '名詞':\n",
    "        ans_1.append(d['surface'])\n",
    "    else:\n",
    "        if len(ans_1) >= 2:\n",
    "            ans_1_str = \"\".join(ans_1)\n",
    "            ans.append(ans_1_str)\n",
    "            ans_1 = []\n",
    "        else:\n",
    "            ans_1 = []"
   ]
  },
  {
   "cell_type": "markdown",
   "metadata": {},
   "source": [
    "## 35. 単語の出現頻度"
   ]
  },
  {
   "cell_type": "code",
   "execution_count": 18,
   "metadata": {},
   "outputs": [],
   "source": [
    "import collections\n",
    "\n",
    "ans_1 = []\n",
    "for d in result:\n",
    "    ans_1.append(d['surface'])\n",
    "ans = collections.Counter(ans_1)\n",
    "#ans.most_common()"
   ]
  },
  {
   "cell_type": "markdown",
   "metadata": {},
   "source": [
    "## 36. 頻度上位10語"
   ]
  },
  {
   "cell_type": "code",
   "execution_count": 6,
   "metadata": {},
   "outputs": [],
   "source": [
    "#!pip install japanize_matplotlib"
   ]
  },
  {
   "cell_type": "code",
   "execution_count": 5,
   "metadata": {},
   "outputs": [
    {
     "data": {
      "text/plain": [
       "[<BarContainer object of 1 artists>,\n",
       " <BarContainer object of 1 artists>,\n",
       " <BarContainer object of 1 artists>,\n",
       " <BarContainer object of 1 artists>,\n",
       " <BarContainer object of 1 artists>,\n",
       " <BarContainer object of 1 artists>,\n",
       " <BarContainer object of 1 artists>,\n",
       " <BarContainer object of 1 artists>,\n",
       " <BarContainer object of 1 artists>,\n",
       " <BarContainer object of 1 artists>]"
      ]
     },
     "execution_count": 5,
     "metadata": {},
     "output_type": "execute_result"
    },
    {
     "data": {
      "image/png": "[encoded data removed]",
      "text/plain": [
       "<Figure size 432x288 with 1 Axes>"
      ]
     },
     "metadata": {
      "needs_background": "light"
     },
     "output_type": "display_data"
    }
   ],
   "source": [
    "import collections\n",
    "import matplotlib.pyplot as plt\n",
    "import japanize_matplotlib\n",
    "ans_1 = []\n",
    "for d in result:\n",
    "    ans_1.append(d['surface'])\n",
    "ans_2 = collections.Counter(ans_1)\n",
    "ans_3 = ans_2.most_common(10)\n",
    "[ plt.bar(word,count) for word, count in ans_3]"
   ]
  },
  {
   "cell_type": "markdown",
   "metadata": {},
   "source": [
    "## 37. 「猫」と共起頻度の高い上位10語"
   ]
  },
  {
   "cell_type": "code",
   "execution_count": 7,
   "metadata": {},
   "outputs": [
    {
     "data": {
      "text/plain": [
       "[<BarContainer object of 1 artists>,\n",
       " <BarContainer object of 1 artists>,\n",
       " <BarContainer object of 1 artists>,\n",
       " <BarContainer object of 1 artists>,\n",
       " <BarContainer object of 1 artists>,\n",
       " <BarContainer object of 1 artists>,\n",
       " <BarContainer object of 1 artists>,\n",
       " <BarContainer object of 1 artists>,\n",
       " <BarContainer object of 1 artists>,\n",
       " <BarContainer object of 1 artists>]"
      ]
     },
     "execution_count": 7,
     "metadata": {},
     "output_type": "execute_result"
    },
    {
     "data": {
      "image/png": "[encoded data removed]",
      "text/plain": [
       "<Figure size 432x288 with 1 Axes>"
      ]
     },
     "metadata": {
      "needs_background": "light"
     },
     "output_type": "display_data"
    }
   ],
   "source": [
    "import collections\n",
    "import matplotlib.pyplot as plt\n",
    "import japanize_matplotlib\n",
    "\n",
    "ans = collections.defaultdict(int) # dicの初期値設定\n",
    "for count, dic in enumerate(result):\n",
    "    # 共起をbi-gramと想定 猫の両端の言葉をdicタイプのansにカウントしつつかくのう\n",
    "    if dic['surface'] == \"猫\":\n",
    "        ans[result[count-1]['surface']] += 1\n",
    "        ans[result[count+1]['surface']] += 1\n",
    "ans_c = collections.Counter(ans)\n",
    "ans_10 = ans_c.most_common(10)\n",
    "[ plt.bar(word,count) for word, count in ans_10]"
   ]
  },
  {
   "cell_type": "markdown",
   "metadata": {},
   "source": [
    "## 38. ヒストグラム"
   ]
  },
  {
   "cell_type": "code",
   "execution_count": 25,
   "metadata": {},
   "outputs": [
    {
     "data": {
      "image/png": "[encoded data removed]",
      "text/plain": [
       "<Figure size 432x288 with 1 Axes>"
      ]
     },
     "metadata": {
      "needs_background": "light"
     },
     "output_type": "display_data"
    }
   ],
   "source": [
    "import collections\n",
    "import matplotlib.pyplot as plt\n",
    "import japanize_matplotlib\n",
    "\n",
    "ans = collections.defaultdict(int) # dicの初期値設定\n",
    "\n",
    "for d in result:\n",
    "    ans[d['surface']] += 1\n",
    "\n",
    "plt.hist(ans.values(),  range = (1,250))\n",
    "plt.xlabel('出現頻度')\n",
    "plt.ylabel('単語の種類数')\n",
    "plt.show()"
   ]
  },
  {
   "cell_type": "markdown",
   "metadata": {},
   "source": [
    "## 39. Zipfの法則"
   ]
  },
  {
   "cell_type": "code",
   "execution_count": 54,
   "metadata": {},
   "outputs": [
    {
     "data": {
      "text/plain": [
       "Text(0, 0.5, '出現頻度')"
      ]
     },
     "execution_count": 54,
     "metadata": {},
     "output_type": "execute_result"
    },
    {
     "data": {
      "image/png": "[encoded data removed]",
      "text/plain": [
       "<Figure size 432x288 with 1 Axes>"
      ]
     },
     "metadata": {
      "needs_background": "light"
     },
     "output_type": "display_data"
    }
   ],
   "source": [
    "import collections\n",
    "import matplotlib.pyplot as plt\n",
    "import japanize_matplotlib\n",
    "\n",
    "ans = collections.defaultdict(int) # dicの初期値設定\n",
    "\n",
    "for d in result:\n",
    "    ans[d['surface']] += 1\n",
    "\n",
    "ans_sort = sorted(ans.items(), key=lambda x:x[1], reverse=True)\n",
    "\n",
    "x = range(1,len(ans_sort)+1)\n",
    "y = [count for word,count in ans_sort]\n",
    "\n",
    "plt.plot(x, y)\n",
    "gca = plt.gca() #plotしたグラフを取得\n",
    "gca.set_xscale('log')\n",
    "gca.set_yscale('log')  \n",
    "\n",
    "plt.title('Zipfの法則') \n",
    "plt.xlabel('出現頻度順位')\n",
    "plt.ylabel('出現頻度')\n",
    "\n",
    "plt.show()"
   ]
  }
 ],
 "metadata": {
  "kernelspec": {
   "display_name": "Python 3",
   "language": "python",
   "name": "python3"
  },
  "language_info": {
   "codemirror_mode": {
    "name": "ipython",
    "version": 3
   },
   "file_extension": ".py",
   "mimetype": "text/x-python",
   "name": "python",
   "nbconvert_exporter": "python",
   "pygments_lexer": "ipython3",
   "version": "3.8.6"
  }
 },
 "nbformat": 4,
 "nbformat_minor": 4
}
