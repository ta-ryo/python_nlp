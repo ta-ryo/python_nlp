{
 "cells": [
  {
   "cell_type": "code",
   "execution_count": 18,
   "metadata": {},
   "outputs": [],
   "source": [
    "# 夏目漱石の小説『吾輩は猫である』の文章（neko.txt）をMeCabを使って形態素解析し，\n",
    "# その結果をneko.txt.mecabというファイルに保存せよ．\n",
    "# このファイルを用いて，以下の問に対応するプログラムを実装せよ．\n",
    "\n",
    "import requests\n",
    "\n",
    "r = requests.get(\"https://nlp100.github.io/data/neko.txt\", auth=('user','pass'))\n",
    "r.status_code\n",
    "r.headers['content-type']\n",
    "r.encoding\n",
    "with open(\"../data/neko.txt\",mode='w') as f:\n",
    "    f.write(r.text)"
   ]
  },
  {
   "cell_type": "code",
   "execution_count": 18,
   "metadata": {},
   "outputs": [],
   "source": [
    "import MeCab\n",
    "chasen = MeCab.Tagger(\"\")\n",
    "chasen.parse(\"\")\n",
    "with open(\"../data/neko.txt\") as f:\n",
    "    with open(\"../data/neko.txt.mecab\",mode='w') as w_f:\n",
    "        read_f = f.read()\n",
    "        w_f.write(chasen.parse(read_f))"
   ]
  },
  {
   "cell_type": "markdown",
   "metadata": {},
   "source": [
    "## 30. 形態素解析結果の読み込み"
   ]
  },
  {
   "cell_type": "code",
   "execution_count": 2,
   "metadata": {},
   "outputs": [],
   "source": [
    "# 形態素解析結果（neko.txt.mecab）を読み込むプログラムを実装せよ．\n",
    "# ただし，各形態素は表層形（surface），基本形（base），品詞（pos），品詞細分類1（pos1）をキーとするマッピング型に格納し，\n",
    "# 1文を形態素（マッピング型）のリストとして表現せよ．第4章の残りの問題では，ここで作ったプログラムを活用せよ．\n",
    "\n",
    "## 新しい   形容詞,自立,*,*,形容詞・イ段,基本形,新しい,アタラシイ,アタラシイ\n",
    "## surface:新しい   pos:形容詞   pos1:自立 pos2:   pos3:   cform:形容詞・イ段    ctype:基本形 base:新しい  read:アタラシイ    pron:アタラシイ\n",
    "\n",
    "with open(\"../data/neko.txt.mecab\",mode='r') as r_f:\n",
    "    text = r_f.read().split(\"\\n\")\n",
    "    \n",
    "result = []\n",
    "for t_line in text:\n",
    "    if t_line == 'EOS':\n",
    "        continue\n",
    "    t_array = t_line.split('\\t')\n",
    "    surface = t_array[0]\n",
    "    key = t_array[1].split(\",\")\n",
    "    dic = {'surface':surface, 'base':key[6], 'pos':key[0], 'pos1':key[1]}\n",
    "    result.append(dic)\n",
    "#result"
   ]
  },
  {
   "cell_type": "markdown",
   "metadata": {},
   "source": [
    "## 31. 動詞"
   ]
  },
  {
   "cell_type": "code",
   "execution_count": 7,
   "metadata": {},
   "outputs": [
    {
     "ename": "SyntaxError",
     "evalue": "unexpected EOF while parsing (<ipython-input-7-4c0f622d5754>, line 4)",
     "output_type": "error",
     "traceback": [
      "\u001b[0;36m  File \u001b[0;32m\"<ipython-input-7-4c0f622d5754>\"\u001b[0;36m, line \u001b[0;32m4\u001b[0m\n\u001b[0;31m    #print(text_dic['surface'],text_dic['pos'])\u001b[0m\n\u001b[0m                                               ^\u001b[0m\n\u001b[0;31mSyntaxError\u001b[0m\u001b[0;31m:\u001b[0m unexpected EOF while parsing\n"
     ]
    }
   ],
   "source": [
    "# 動詞の表層形をすべて抽出せよ．\n",
    "for text_dic in result:\n",
    "    if text_dic['pos'] == \"動詞\":\n",
    "        #print(text_dic['surface'],text_dic['pos'])"
   ]
  },
  {
   "cell_type": "markdown",
   "metadata": {},
   "source": [
    "## 32. 動詞の基本形"
   ]
  },
  {
   "cell_type": "code",
   "execution_count": 12,
   "metadata": {},
   "outputs": [
    {
     "ename": "IndentationError",
     "evalue": "expected an indented block (<ipython-input-12-daa017a60f88>, line 5)",
     "output_type": "error",
     "traceback": [
      "\u001b[0;36m  File \u001b[0;32m\"<ipython-input-12-daa017a60f88>\"\u001b[0;36m, line \u001b[0;32m5\u001b[0m\n\u001b[0;31m    print(1)\u001b[0m\n\u001b[0m    ^\u001b[0m\n\u001b[0;31mIndentationError\u001b[0m\u001b[0;31m:\u001b[0m expected an indented block\n"
     ]
    }
   ],
   "source": [
    "# 動詞の基本形をすべて抽出せよ．\n",
    "for text_dic in result:\n",
    "    if text_dic['pos'] == \"動詞\":\n",
    "        #print(text_dic['base'],text_dic['surface'])"
   ]
  },
  {
   "cell_type": "markdown",
   "metadata": {},
   "source": [
    "## 33. 「AのB」"
   ]
  },
  {
   "cell_type": "code",
   "execution_count": 12,
   "metadata": {},
   "outputs": [
    {
     "ename": "IndentationError",
     "evalue": "expected an indented block (<ipython-input-12-42a638813833>, line 5)",
     "output_type": "error",
     "traceback": [
      "\u001b[0;36m  File \u001b[0;32m\"<ipython-input-12-42a638813833>\"\u001b[0;36m, line \u001b[0;32m5\u001b[0m\n\u001b[0;31m    print(1)\u001b[0m\n\u001b[0m    ^\u001b[0m\n\u001b[0;31mIndentationError\u001b[0m\u001b[0;31m:\u001b[0m expected an indented block\n"
     ]
    }
   ],
   "source": [
    "for index in range(len(result)):\n",
    "    if (result[index]['pos1'] == \"連体化\") and (result[index]['surface'] == \"の\"):\n",
    "        if (result[index-1]['pos'] == \"名詞\") and (result[index+1]['pos'] == \"名詞\"):\n",
    "            #print(result[index-1][\"surface\"]+result[index][\"surface\"]+result[index+1][\"surface\"])"
   ]
  },
  {
   "cell_type": "markdown",
   "metadata": {},
   "source": [
    "## 34. 名詞の連接"
   ]
  },
  {
   "cell_type": "code",
   "execution_count": 9,
   "metadata": {},
   "outputs": [],
   "source": [
    "ans_1 = []\n",
    "ans = []\n",
    "for d in result:\n",
    "    if d['pos'] == '名詞':\n",
    "        ans_1.append(d['surface'])\n",
    "    else:\n",
    "        if len(ans_1) >= 2:\n",
    "            ans_1_str = \"\".join(ans_1)\n",
    "            ans.append(ans_1_str)\n",
    "            ans_1 = []\n",
    "        else:\n",
    "            ans_1 = []"
   ]
  },
  {
   "cell_type": "markdown",
   "metadata": {},
   "source": [
    "## 35. 単語の出現頻度"
   ]
  },
  {
   "cell_type": "code",
   "execution_count": null,
   "metadata": {},
   "outputs": [],
   "source": []
  }
 ],
 "metadata": {
  "kernelspec": {
   "display_name": "Python 3",
   "language": "python",
   "name": "python3"
  },
  "language_info": {
   "codemirror_mode": {
    "name": "ipython",
    "version": 3
   },
   "file_extension": ".py",
   "mimetype": "text/x-python",
   "name": "python",
   "nbconvert_exporter": "python",
   "pygments_lexer": "ipython3",
   "version": "3.8.6"
  }
 },
 "nbformat": 4,
 "nbformat_minor": 4
}
