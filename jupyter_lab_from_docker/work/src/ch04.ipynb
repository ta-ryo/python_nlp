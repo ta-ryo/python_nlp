{
 "cells": [
  {
   "cell_type": "code",
   "execution_count": 18,
   "metadata": {},
   "outputs": [],
   "source": [
    "# 夏目漱石の小説『吾輩は猫である』の文章（neko.txt）をMeCabを使って形態素解析し，\n",
    "# その結果をneko.txt.mecabというファイルに保存せよ．\n",
    "# このファイルを用いて，以下の問に対応するプログラムを実装せよ．\n",
    "\n",
    "import requests\n",
    "\n",
    "r = requests.get(\"https://nlp100.github.io/data/neko.txt\", auth=('user','pass'))\n",
    "r.status_code\n",
    "r.headers['content-type']\n",
    "r.encoding\n",
    "with open(\"../data/neko.txt\",mode='w') as f:\n",
    "    f.write(r.text)"
   ]
  },
  {
   "cell_type": "code",
   "execution_count": 18,
   "metadata": {},
   "outputs": [],
   "source": [
    "import MeCab\n",
    "chasen = MeCab.Tagger(\"\")\n",
    "chasen.parse(\"\")\n",
    "with open(\"../data/neko.txt\") as f:\n",
    "    with open(\"../data/neko.txt.mecab\",mode='w') as w_f:\n",
    "        read_f = f.read()\n",
    "        w_f.write(chasen.parse(read_f))"
   ]
  },
  {
   "cell_type": "markdown",
   "metadata": {},
   "source": [
    "## 30. 形態素解析結果の読み込み"
   ]
  },
  {
   "cell_type": "code",
   "execution_count": 68,
   "metadata": {},
   "outputs": [],
   "source": [
    "# 形態素解析結果（neko.txt.mecab）を読み込むプログラムを実装せよ．\n",
    "# ただし，各形態素は表層形（surface），基本形（base），品詞（pos），品詞細分類1（pos1）をキーとするマッピング型に格納し，\n",
    "# 1文を形態素（マッピング型）のリストとして表現せよ．第4章の残りの問題では，ここで作ったプログラムを活用せよ．\n",
    "\n",
    "## 新しい   形容詞,自立,*,*,形容詞・イ段,基本形,新しい,アタラシイ,アタラシイ\n",
    "## surface:新しい   pos:形容詞   pos1:自立 pos2:   pos3:   cform:形容詞・イ段    ctype:基本形 base:新しい  read:アタラシイ    pron:アタラシイ\n",
    "\n",
    "with open(\"../data/neko.txt.mecab\",mode='r') as r_f:\n",
    "    text = r_f.read().split(\"\\n\")\n",
    "    \n",
    "result = []\n",
    "for t_line in text:\n",
    "    if t_line == 'EOS':\n",
    "        continue\n",
    "    t_array = t_line.split('\\t')\n",
    "    surface = t_array[0]\n",
    "    key = t_array[1].split(\",\")\n",
    "    dic = {'surface':surface, 'base':key[6], 'pos':key[0], 'pos1':key[1]}\n",
    "    result.append(dic)\n",
    "# result"
   ]
  },
  {
   "cell_type": "code",
   "execution_count": null,
   "metadata": {},
   "outputs": [],
   "source": []
  }
 ],
 "metadata": {
  "kernelspec": {
   "display_name": "Python 3",
   "language": "python",
   "name": "python3"
  },
  "language_info": {
   "codemirror_mode": {
    "name": "ipython",
    "version": 3
   },
   "file_extension": ".py",
   "mimetype": "text/x-python",
   "name": "python",
   "nbconvert_exporter": "python",
   "pygments_lexer": "ipython3",
   "version": "3.7.6"
  }
 },
 "nbformat": 4,
 "nbformat_minor": 4
}
