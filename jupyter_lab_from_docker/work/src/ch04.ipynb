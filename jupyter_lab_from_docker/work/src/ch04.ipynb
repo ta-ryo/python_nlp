{
 "cells": [
  {
   "cell_type": "code",
   "execution_count": 18,
   "metadata": {},
   "outputs": [],
   "source": [
    "# 夏目漱石の小説『吾輩は猫である』の文章（neko.txt）をMeCabを使って形態素解析し，\n",
    "# その結果をneko.txt.mecabというファイルに保存せよ．\n",
    "# このファイルを用いて，以下の問に対応するプログラムを実装せよ．\n",
    "\n",
    "import requests\n",
    "\n",
    "r = requests.get(\"https://nlp100.github.io/data/neko.txt\", auth=('user','pass'))\n",
    "r.status_code\n",
    "r.headers['content-type']\n",
    "r.encoding\n",
    "with open(\"../data/neko.txt\",mode='w') as f:\n",
    "    f.write(r.text)"
   ]
  },
  {
   "cell_type": "code",
   "execution_count": null,
   "metadata": {},
   "outputs": [],
   "source": []
  }
 ],
 "metadata": {
  "kernelspec": {
   "display_name": "Python 3",
   "language": "python",
   "name": "python3"
  },
  "language_info": {
   "codemirror_mode": {
    "name": "ipython",
    "version": 3
   },
   "file_extension": ".py",
   "mimetype": "text/x-python",
   "name": "python",
   "nbconvert_exporter": "python",
   "pygments_lexer": "ipython3",
   "version": "3.7.6"
  }
 },
 "nbformat": 4,
 "nbformat_minor": 4
}
